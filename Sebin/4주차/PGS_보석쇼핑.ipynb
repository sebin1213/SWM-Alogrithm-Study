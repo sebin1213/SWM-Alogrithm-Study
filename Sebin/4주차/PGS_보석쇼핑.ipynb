{
 "cells": [
  {
   "cell_type": "code",
   "execution_count": 82,
   "id": "5c6f0094",
   "metadata": {},
   "outputs": [],
   "source": [
    "gems = [\"DIA\", \"RUBY\", \"RUBY\", \"DIA\", \"DIA\", \"EMERALD\", \"SAPPHIRE\", \"DIA\"]\n",
    "result= [3, 7]"
   ]
  },
  {
   "cell_type": "code",
   "execution_count": 83,
   "id": "bd92ac39",
   "metadata": {},
   "outputs": [],
   "source": [
    "gem_li = list(set(gems))"
   ]
  },
  {
   "cell_type": "code",
   "execution_count": 84,
   "id": "5b6cc18b",
   "metadata": {},
   "outputs": [],
   "source": [
    "li=[[[0,0] for _ in range(len(gems))] for _ in range(len(gem_li))]"
   ]
  },
  {
   "cell_type": "code",
   "execution_count": 85,
   "id": "3f8b6ff9",
   "metadata": {},
   "outputs": [],
   "source": [
    "for g in range(len(gems)):\n",
    "    if gem_li[0] == gems[g]:\n",
    "        li[0][g][0],li[0][g][1]=1,1"
   ]
  },
  {
   "cell_type": "code",
   "execution_count": 86,
   "id": "994c29db",
   "metadata": {},
   "outputs": [],
   "source": [
    "for i in range(len(gem_li)):\n",
    "    for g in range(len(gems)):\n",
    "        if gem_li[i]==gems[g]:\n",
    "            if 0<= g-1 and 0 <= i-1:\n",
    "                li[i][g][0] = li[i-1][g-1][0]+1\n",
    "            elif g+1 < len(gems) and 0 <= i-1:\n",
    "                li[i][g][1] = li[i-1][g+1][1]+1"
   ]
  },
  {
   "cell_type": "code",
   "execution_count": 87,
   "id": "4c312b3a",
   "metadata": {},
   "outputs": [
    {
     "data": {
      "text/plain": [
       "['RUBY', 'SAPPHIRE', 'EMERALD', 'DIA']"
      ]
     },
     "execution_count": 87,
     "metadata": {},
     "output_type": "execute_result"
    }
   ],
   "source": [
    "gem_li"
   ]
  },
  {
   "cell_type": "code",
   "execution_count": 88,
   "id": "711a3b39",
   "metadata": {},
   "outputs": [
    {
     "data": {
      "text/plain": [
       "[[[0, 0], [1, 1], [1, 1], [0, 0], [0, 0], [0, 0], [0, 0], [0, 0]],\n",
       " [[0, 0], [0, 0], [0, 0], [0, 0], [0, 0], [0, 0], [1, 0], [0, 0]],\n",
       " [[0, 0], [0, 0], [0, 0], [0, 0], [0, 0], [1, 0], [0, 0], [0, 0]],\n",
       " [[0, 1], [0, 0], [0, 0], [1, 0], [1, 0], [0, 0], [0, 0], [1, 0]]]"
      ]
     },
     "execution_count": 88,
     "metadata": {},
     "output_type": "execute_result"
    }
   ],
   "source": [
    "li"
   ]
  },
  {
   "cell_type": "code",
   "execution_count": null,
   "id": "0fde2f84",
   "metadata": {},
   "outputs": [],
   "source": [
    "for i in range(gems):\n",
    "    "
   ]
  },
  {
   "cell_type": "code",
   "execution_count": null,
   "id": "c3b90c60",
   "metadata": {},
   "outputs": [],
   "source": []
  },
  {
   "cell_type": "code",
   "execution_count": null,
   "id": "3bbf0a05",
   "metadata": {},
   "outputs": [],
   "source": []
  },
  {
   "cell_type": "code",
   "execution_count": null,
   "id": "8a65304e",
   "metadata": {},
   "outputs": [],
   "source": []
  },
  {
   "cell_type": "code",
   "execution_count": null,
   "id": "4a64c05e",
   "metadata": {},
   "outputs": [],
   "source": [
    "gems = [\"DIA\", \"RUBY\", \"RUBY\", \"DIA\", \"DIA\", \"EMERALD\", \"SAPPHIRE\", \"DIA\"]\n",
    "result= [3, 7]"
   ]
  },
  {
   "cell_type": "code",
   "execution_count": null,
   "id": "d54585a8",
   "metadata": {},
   "outputs": [],
   "source": [
    "gem_li = list(set(gems))\n",
    "\n",
    "for i in range(len(gems)):\n",
    "    gems[i]"
   ]
  }
 ],
 "metadata": {
  "kernelspec": {
   "display_name": "Python 3 (ipykernel)",
   "language": "python",
   "name": "python3"
  },
  "language_info": {
   "codemirror_mode": {
    "name": "ipython",
    "version": 3
   },
   "file_extension": ".py",
   "mimetype": "text/x-python",
   "name": "python",
   "nbconvert_exporter": "python",
   "pygments_lexer": "ipython3",
   "version": "3.9.13"
  }
 },
 "nbformat": 4,
 "nbformat_minor": 5
}
