{
 "cells": [
  {
   "cell_type": "code",
   "execution_count": null,
   "id": "065b1f7a",
   "metadata": {},
   "outputs": [],
   "source": [
    "10 4\n",
    "4177252841"
   ]
  },
  {
   "cell_type": "code",
   "execution_count": 47,
   "id": "1151d85b",
   "metadata": {},
   "outputs": [
    {
     "name": "stdout",
     "output_type": "stream",
     "text": [
      "10 4\n",
      "4177252841\n"
     ]
    }
   ],
   "source": [
    "num,k=map(int,input().split())\n",
    "li=input()"
   ]
  },
  {
   "cell_type": "code",
   "execution_count": 116,
   "id": "3ff25c36",
   "metadata": {},
   "outputs": [],
   "source": [
    "from collections import deque\n",
    "n=num-k\n",
    "st = int(li[-n:])"
   ]
  },
  {
   "cell_type": "code",
   "execution_count": 117,
   "id": "a07e2f74",
   "metadata": {},
   "outputs": [
    {
     "name": "stdout",
     "output_type": "stream",
     "text": [
      "252841 6\n"
     ]
    }
   ],
   "source": [
    "print(st,n)"
   ]
  },
  {
   "cell_type": "code",
   "execution_count": null,
   "id": "c2fd1c67",
   "metadata": {},
   "outputs": [],
   "source": []
  },
  {
   "cell_type": "code",
   "execution_count": 118,
   "id": "b6d00fde",
   "metadata": {},
   "outputs": [
    {
     "name": "stdout",
     "output_type": "stream",
     "text": [
      "2\n",
      "7\n",
      "752841\n",
      "7\n",
      "752841\n",
      "75\n",
      "752\n",
      "7528\n",
      "75284\n",
      "1\n",
      "4\n",
      "752844\n",
      "8\n",
      "752848\n"
     ]
    }
   ],
   "source": [
    "check=0\n",
    "while n!=0:\n",
    "    if n==1:\n",
    "        s = st%10\n",
    "    else:\n",
    "        s = st//(10**(n-1))\n",
    "    print(s)\n",
    "    count=0\n",
    "    for i in li[:-n][::-1]:\n",
    "        count+=1\n",
    "        if s <= int(i):\n",
    "            print(i)\n",
    "            st += int(i)*(10**(n-1))-s*(10**(n-1))\n",
    "            s=int(i)\n",
    "            check=count\n",
    "            print(st)\n",
    "    n-=1"
   ]
  },
  {
   "cell_type": "code",
   "execution_count": 108,
   "id": "7b227289",
   "metadata": {},
   "outputs": [
    {
     "data": {
      "text/plain": [
       "752848"
      ]
     },
     "execution_count": 108,
     "metadata": {},
     "output_type": "execute_result"
    }
   ],
   "source": [
    "st"
   ]
  },
  {
   "cell_type": "code",
   "execution_count": null,
   "id": "396c48f4",
   "metadata": {},
   "outputs": [],
   "source": [
    "check=0\n",
    "while n!=0:\n",
    "    if n==1:\n",
    "        s = st%10\n",
    "    else:\n",
    "        s = st//(10**(n-1))\n",
    "    print(s)\n",
    "    count=0\n",
    "    for i in li[:-n][::-1]:\n",
    "        count+=1\n",
    "        if s <= int(i):\n",
    "            print(i)\n",
    "            st += int(i)*(10**(n-1))-s*(10**(n-1))\n",
    "            s=int(i)\n",
    "            check=count\n",
    "            print(st)\n",
    "    n-=1"
   ]
  }
 ],
 "metadata": {
  "kernelspec": {
   "display_name": "Python 3 (ipykernel)",
   "language": "python",
   "name": "python3"
  },
  "language_info": {
   "codemirror_mode": {
    "name": "ipython",
    "version": 3
   },
   "file_extension": ".py",
   "mimetype": "text/x-python",
   "name": "python",
   "nbconvert_exporter": "python",
   "pygments_lexer": "ipython3",
   "version": "3.9.13"
  }
 },
 "nbformat": 4,
 "nbformat_minor": 5
}
