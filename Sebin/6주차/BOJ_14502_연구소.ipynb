{
 "cells": [
  {
   "cell_type": "code",
   "execution_count": null,
   "id": "439ed1ae-6342-4a64-85a2-bbdcf2373787",
   "metadata": {},
   "outputs": [],
   "source": [
    "import copy,sys\n",
    "\n",
    "def virus(r,c):\n",
    "    for i in range(4):\n",
    "        nx= c +dx[i]\n",
    "        ny= r +dy[i]\n",
    "        if 0 <= nx < m and 0 <= ny < n:\n",
    "            if visited[ny][nx]==0:\n",
    "                visited[ny][nx]=1\n",
    "                virus(ny,nx)\n",
    "\n",
    "def choice(depth):\n",
    "    global visited, max_val\n",
    "    \n",
    "    if depth==3:\n",
    "        copy_v = copy.deepcopy(visited)\n",
    "        for i in virus_loc:\n",
    "            virus(i[0],i[1])\n",
    "        c = sum(v.count(0) for v in visited)\n",
    "        max_val = max(max_val,c)\n",
    "        visited = copy_v\n",
    "        return\n",
    "        \n",
    "    for i in range(n):\n",
    "        for j in range(m):\n",
    "            if visited[i][j]==0:\n",
    "                visited[i][j]=1\n",
    "                choice(depth+1)\n",
    "                visited[i][j]=0\n",
    "\n",
    "n,m = map(int,sys.stdin.readline().split())\n",
    "virus_loc=[]\n",
    "visited = [[0]*m for _ in range(n)]\n",
    "for i in range(n):\n",
    "    a=list(map(int,sys.stdin.readline().split()))\n",
    "    for j in range(m):\n",
    "        if a[j]==2:\n",
    "            virus_loc.append([i,j])\n",
    "        if a[j] > 0:\n",
    "            visited[i][j]=1\n",
    "    \n",
    "dx = [0,0,-1,1]\n",
    "dy = [-1,1,0,0]\n",
    "max_val = -1e9\n",
    "\n",
    "choice(0)\n",
    "\n",
    "print(max_val)"
   ]
  }
 ],
 "metadata": {
  "kernelspec": {
   "display_name": "Python 3 (ipykernel)",
   "language": "python",
   "name": "python3"
  },
  "language_info": {
   "codemirror_mode": {
    "name": "ipython",
    "version": 3
   },
   "file_extension": ".py",
   "mimetype": "text/x-python",
   "name": "python",
   "nbconvert_exporter": "python",
   "pygments_lexer": "ipython3",
   "version": "3.9.13"
  }
 },
 "nbformat": 4,
 "nbformat_minor": 5
}
