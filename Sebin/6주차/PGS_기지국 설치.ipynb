{
 "cells": [
  {
   "cell_type": "code",
   "execution_count": null,
   "id": "0dfd54c5-8bcd-40af-ba9f-f4001c724934",
   "metadata": {},
   "outputs": [],
   "source": [
    "def solution(n, stations, w):\n",
    "    st = 1\n",
    "    c = 0\n",
    "    for i in stations:\n",
    "        if st < i-w:\n",
    "            c += (i-w-1-st)//(w*2+1) +1\n",
    "        st=i+w+1\n",
    "    if n > (i + w):\n",
    "        c += (n-(i+w+1))//(w*2+1) + 1\n",
    "    return c"
   ]
  }
 ],
 "metadata": {
  "kernelspec": {
   "display_name": "Python 3 (ipykernel)",
   "language": "python",
   "name": "python3"
  },
  "language_info": {
   "codemirror_mode": {
    "name": "ipython",
    "version": 3
   },
   "file_extension": ".py",
   "mimetype": "text/x-python",
   "name": "python",
   "nbconvert_exporter": "python",
   "pygments_lexer": "ipython3",
   "version": "3.9.13"
  }
 },
 "nbformat": 4,
 "nbformat_minor": 5
}
