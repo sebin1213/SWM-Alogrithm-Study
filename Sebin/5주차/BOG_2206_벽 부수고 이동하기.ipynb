{
 "cells": [
  {
   "cell_type": "markdown",
   "id": "ae0ed403",
   "metadata": {},
   "source": [
    "1. 벽을뿌시지않았을때 값을 구한다\n",
    "2. 벽을 뿌신다\n",
    "3. 뿌신 주변 영역에 지나갈수있는 영역중 최소 경로를 구한다\n",
    "4. 최소경로 +1 한 값을 내 영역에 입력한다.\n",
    "5. 내 영역부터 다시 탐색한다 (벽을 뿌심으로써 영향을 줬는지 확인하기 위해)\n",
    "6. 벽마다 영역을 탐색하고 최소값을 구한다."
   ]
  },
  {
   "cell_type": "code",
   "execution_count": null,
   "id": "aa088d17",
   "metadata": {},
   "outputs": [],
   "source": [
    "import copy\n",
    "from collections import deque\n",
    "\n",
    "n,m = map(int,input().split())\n",
    "ori_li=[]\n",
    "for i in range(n):\n",
    "    ori_li.append(list(map(int,list(input()))))\n",
    "\n",
    "wall=[]\n",
    "for i in range(n):\n",
    "    for j in range(m):\n",
    "        if ori_li[i][j]==1:\n",
    "            wall.append([i,j])\n",
    "\n",
    "dx=[0,0,1,-1]\n",
    "dy=[1,-1,0,0]            \n",
    "            \n",
    "def bfs(li,y,x,count):\n",
    "    q = deque()\n",
    "    q.append([y,x,count])\n",
    "\n",
    "    while q:\n",
    "        y, x, c = q.popleft()\n",
    "        li[y][x] = c\n",
    "        for j in range(4):\n",
    "            nx = x + dx[j]\n",
    "            ny = y + dy[j]\n",
    "            if 0 <= nx < m and 0 <= ny < n:\n",
    "                if ori_li[ny][nx]!=1 and li[ny][nx] > c+1 :\n",
    "                    q.append([ny,nx,c+1])\n",
    "    return li[n-1][m-1]\n",
    "\n",
    "base=[[n*m]*m for _ in range(n)]\n",
    "bfs(base,0,0,1)\n",
    "\n",
    "import copy\n",
    "min_val = n*m\n",
    "for i in wall:\n",
    "    check_min=n*m\n",
    "    for j in range(4):\n",
    "        nx = i[1] + dx[j]\n",
    "        ny = i[0] + dy[j]\n",
    "        if 0 <= nx < m and 0 <= ny < n:\n",
    "            if ori_li[ny][nx]!=1:\n",
    "                check_min = min(check_min, base[ny][nx])\n",
    "    val = bfs(copy.deepcopy(base),i[0],i[1],check_min+1)\n",
    "    min_val = min(min_val,val)\n",
    "\n",
    "if len(wall)==0:\n",
    "    print(n+m-1)\n",
    "elif min_val==(n*m):\n",
    "    print(-1)\n",
    "else:\n",
    "    print(min_val)"
   ]
  }
 ],
 "metadata": {
  "kernelspec": {
   "display_name": "Python 3 (ipykernel)",
   "language": "python",
   "name": "python3"
  },
  "language_info": {
   "codemirror_mode": {
    "name": "ipython",
    "version": 3
   },
   "file_extension": ".py",
   "mimetype": "text/x-python",
   "name": "python",
   "nbconvert_exporter": "python",
   "pygments_lexer": "ipython3",
   "version": "3.9.13"
  }
 },
 "nbformat": 4,
 "nbformat_minor": 5
}
